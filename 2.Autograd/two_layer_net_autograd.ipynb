{
  "nbformat": 4,
  "cells": [
    {
      "cell_type": "code",
      "source": [
        "%matplotlib inline"
      ],
      "outputs": [],
      "execution_count": null,
      "metadata": {
        "collapsed": false
      }
    },
    {
      "cell_type": "markdown",
      "metadata": {},
      "source": [
        "\nPyTorch: Variables and autograd\n-------------------------------\n\nA fully-connected ReLU network with one hidden layer and no biases, trained to\npredict y from x by minimizing squared Euclidean distance.\n\nThis implementation computes the forward pass using operations on PyTorch\nVariables, and uses PyTorch autograd to compute gradients.\n\nA PyTorch Variable is a wrapper around a PyTorch Tensor, and represents a node\nin a computational graph. If x is a Variable then x.data is a Tensor giving its\nvalue, and x.grad is another Variable holding the gradient of x with respect to\nsome scalar value.\n\nPyTorch Variables have the same API as PyTorch tensors: (almost) any operation\nyou can do on a Tensor you can also do on a Variable; the difference is that\nautograd allows you to automatically compute gradients.\n\n"
      ]
    },
    {
      "cell_type": "code",
      "source": [
        "import torch\nfrom torch.autograd import Variable\n\ndtype = torch.FloatTensor\n# dtype = torch.cuda.FloatTensor # Uncomment this to run on GPU\n\n# N is batch size; D_in is input dimension;\n# H is hidden dimension; D_out is output dimension.\nN, D_in, H, D_out = 64, 1000, 100, 10\n\n# Create random Tensors to hold input and outputs, and wrap them in Variables.\n# Setting requires_grad=False indicates that we do not need to compute gradients\n# with respect to these Variables during the backward pass.\nx = Variable(torch.randn(N, D_in).type(dtype), requires_grad=False)\ny = Variable(torch.randn(N, D_out).type(dtype), requires_grad=False)\n\n# Create random Tensors for weights, and wrap them in Variables.\n# Setting requires_grad=True indicates that we want to compute gradients with\n# respect to these Variables during the backward pass.\nw1 = Variable(torch.randn(D_in, H).type(dtype), requires_grad=True)\nw2 = Variable(torch.randn(H, D_out).type(dtype), requires_grad=True)\n\nlearning_rate = 1e-6\nfor t in range(500):\n    # Forward pass: compute predicted y using operations on Variables; these\n    # are exactly the same operations we used to compute the forward pass using\n    # Tensors, but we do not need to keep references to intermediate values since\n    # we are not implementing the backward pass by hand.\n    y_pred = x.mm(w1).clamp(min=0).mm(w2)\n\n    # Compute and print loss using operations on Variables.\n    # Now loss is a Variable of shape (1,) and loss.data is a Tensor of shape\n    # (1,); loss.data[0] is a scalar value holding the loss.\n    loss = (y_pred - y).pow(2).sum()\n    print(t, loss.data[0])\n\n    # Use autograd to compute the backward pass. This call will compute the\n    # gradient of loss with respect to all Variables with requires_grad=True.\n    # After this call w1.grad and w2.grad will be Variables holding the gradient\n    # of the loss with respect to w1 and w2 respectively.\n    loss.backward()\n\n    # Update weights using gradient descent; w1.data and w2.data are Tensors,\n    # w1.grad and w2.grad are Variables and w1.grad.data and w2.grad.data are\n    # Tensors.\n    w1.data -= learning_rate * w1.grad.data\n    w2.data -= learning_rate * w2.grad.data\n\n    # Manually zero the gradients after updating weights\n    w1.grad.data.zero_()\n    w2.grad.data.zero_()"
      ],
      "outputs": [],
      "execution_count": null,
      "metadata": {
        "collapsed": false
      }
    }
  ],
  "nbformat_minor": 0,
  "metadata": {
    "language_info": {
      "pygments_lexer": "ipython3",
      "mimetype": "text/x-python",
      "file_extension": ".py",
      "codemirror_mode": {
        "name": "ipython",
        "version": 3
      },
      "name": "python",
      "nbconvert_exporter": "python",
      "version": "3.5.2"
    },
    "kernelspec": {
      "language": "python",
      "display_name": "Python 3",
      "name": "python3"
    }
  }
}